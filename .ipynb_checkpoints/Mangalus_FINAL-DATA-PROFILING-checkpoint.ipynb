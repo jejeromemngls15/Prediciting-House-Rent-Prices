{
 "cells": [
  {
   "cell_type": "raw",
   "id": "e90578d6-c926-4f7d-b950-217c5d4cdaad",
   "metadata": {},
   "source": [
    "Mangalus, Jerome Anthony P\n",
    "3CSC\n",
    "Lab Exercise # 1"
   ]
  },
  {
   "cell_type": "code",
   "execution_count": 3,
   "id": "8b9cdf7a-4064-4430-9f17-cfccd8bf90ad",
   "metadata": {},
   "outputs": [],
   "source": [
    "import numpy as np\n",
    "import pandas as pd\n",
    "import matplotlib.pyplot as plt\n",
    "import seaborn as sns"
   ]
  },
  {
   "cell_type": "markdown",
   "id": "1782f81e-d17f-4ff4-9764-60742bd6529f",
   "metadata": {},
   "source": [
    "# Loading the Data"
   ]
  },
  {
   "cell_type": "code",
   "execution_count": 4,
   "id": "5e070e47-1b1c-43a0-b980-e13ff0dc46ac",
   "metadata": {},
   "outputs": [],
   "source": [
    "csv_file = r'C:\\Users\\jerom\\Machine Learning\\Lab Ex 1\\House_Rent_Dataset.csv'\n",
    "data = pd.read_csv(csv_file)"
   ]
  },
  {
   "cell_type": "code",
   "execution_count": 20,
   "id": "8e6363a1-ea80-41d0-b1e6-1abca4e871db",
   "metadata": {},
   "outputs": [
    {
     "data": {
      "text/html": [
       "<div>\n",
       "<style scoped>\n",
       "    .dataframe tbody tr th:only-of-type {\n",
       "        vertical-align: middle;\n",
       "    }\n",
       "\n",
       "    .dataframe tbody tr th {\n",
       "        vertical-align: top;\n",
       "    }\n",
       "\n",
       "    .dataframe thead th {\n",
       "        text-align: right;\n",
       "    }\n",
       "</style>\n",
       "<table border=\"1\" class=\"dataframe\">\n",
       "  <thead>\n",
       "    <tr style=\"text-align: right;\">\n",
       "      <th></th>\n",
       "      <th>Posted On</th>\n",
       "      <th>BHK</th>\n",
       "      <th>Rent</th>\n",
       "      <th>Size</th>\n",
       "      <th>Floor</th>\n",
       "      <th>Area Type</th>\n",
       "      <th>Area Locality</th>\n",
       "      <th>City</th>\n",
       "      <th>Furnishing Status</th>\n",
       "      <th>Tenant Preferred</th>\n",
       "      <th>Bathroom</th>\n",
       "      <th>Point of Contact</th>\n",
       "    </tr>\n",
       "  </thead>\n",
       "  <tbody>\n",
       "    <tr>\n",
       "      <th>0</th>\n",
       "      <td>2022-05-18</td>\n",
       "      <td>2</td>\n",
       "      <td>10000</td>\n",
       "      <td>1100</td>\n",
       "      <td>Ground out of 2</td>\n",
       "      <td>Super Area</td>\n",
       "      <td>Bandel</td>\n",
       "      <td>Kolkata</td>\n",
       "      <td>Unfurnished</td>\n",
       "      <td>Bachelors/Family</td>\n",
       "      <td>2</td>\n",
       "      <td>Contact Owner</td>\n",
       "    </tr>\n",
       "    <tr>\n",
       "      <th>1</th>\n",
       "      <td>2022-05-13</td>\n",
       "      <td>2</td>\n",
       "      <td>20000</td>\n",
       "      <td>800</td>\n",
       "      <td>1 out of 3</td>\n",
       "      <td>Super Area</td>\n",
       "      <td>Phool Bagan, Kankurgachi</td>\n",
       "      <td>Kolkata</td>\n",
       "      <td>Semi-Furnished</td>\n",
       "      <td>Bachelors/Family</td>\n",
       "      <td>1</td>\n",
       "      <td>Contact Owner</td>\n",
       "    </tr>\n",
       "    <tr>\n",
       "      <th>2</th>\n",
       "      <td>2022-05-16</td>\n",
       "      <td>2</td>\n",
       "      <td>17000</td>\n",
       "      <td>1000</td>\n",
       "      <td>1 out of 3</td>\n",
       "      <td>Super Area</td>\n",
       "      <td>Salt Lake City Sector 2</td>\n",
       "      <td>Kolkata</td>\n",
       "      <td>Semi-Furnished</td>\n",
       "      <td>Bachelors/Family</td>\n",
       "      <td>1</td>\n",
       "      <td>Contact Owner</td>\n",
       "    </tr>\n",
       "    <tr>\n",
       "      <th>3</th>\n",
       "      <td>2022-07-04</td>\n",
       "      <td>2</td>\n",
       "      <td>10000</td>\n",
       "      <td>800</td>\n",
       "      <td>1 out of 2</td>\n",
       "      <td>Super Area</td>\n",
       "      <td>Dumdum Park</td>\n",
       "      <td>Kolkata</td>\n",
       "      <td>Unfurnished</td>\n",
       "      <td>Bachelors/Family</td>\n",
       "      <td>1</td>\n",
       "      <td>Contact Owner</td>\n",
       "    </tr>\n",
       "    <tr>\n",
       "      <th>4</th>\n",
       "      <td>2022-05-09</td>\n",
       "      <td>2</td>\n",
       "      <td>7500</td>\n",
       "      <td>850</td>\n",
       "      <td>1 out of 2</td>\n",
       "      <td>Carpet Area</td>\n",
       "      <td>South Dum Dum</td>\n",
       "      <td>Kolkata</td>\n",
       "      <td>Unfurnished</td>\n",
       "      <td>Bachelors</td>\n",
       "      <td>1</td>\n",
       "      <td>Contact Owner</td>\n",
       "    </tr>\n",
       "    <tr>\n",
       "      <th>5</th>\n",
       "      <td>2022-04-29</td>\n",
       "      <td>2</td>\n",
       "      <td>7000</td>\n",
       "      <td>600</td>\n",
       "      <td>Ground out of 1</td>\n",
       "      <td>Super Area</td>\n",
       "      <td>Thakurpukur</td>\n",
       "      <td>Kolkata</td>\n",
       "      <td>Unfurnished</td>\n",
       "      <td>Bachelors/Family</td>\n",
       "      <td>2</td>\n",
       "      <td>Contact Owner</td>\n",
       "    </tr>\n",
       "    <tr>\n",
       "      <th>6</th>\n",
       "      <td>2022-06-21</td>\n",
       "      <td>2</td>\n",
       "      <td>10000</td>\n",
       "      <td>700</td>\n",
       "      <td>Ground out of 4</td>\n",
       "      <td>Super Area</td>\n",
       "      <td>Malancha</td>\n",
       "      <td>Kolkata</td>\n",
       "      <td>Unfurnished</td>\n",
       "      <td>Bachelors</td>\n",
       "      <td>2</td>\n",
       "      <td>Contact Agent</td>\n",
       "    </tr>\n",
       "    <tr>\n",
       "      <th>7</th>\n",
       "      <td>2022-06-21</td>\n",
       "      <td>1</td>\n",
       "      <td>5000</td>\n",
       "      <td>250</td>\n",
       "      <td>1 out of 2</td>\n",
       "      <td>Super Area</td>\n",
       "      <td>Malancha</td>\n",
       "      <td>Kolkata</td>\n",
       "      <td>Unfurnished</td>\n",
       "      <td>Bachelors</td>\n",
       "      <td>1</td>\n",
       "      <td>Contact Agent</td>\n",
       "    </tr>\n",
       "    <tr>\n",
       "      <th>8</th>\n",
       "      <td>2022-06-07</td>\n",
       "      <td>2</td>\n",
       "      <td>26000</td>\n",
       "      <td>800</td>\n",
       "      <td>1 out of 2</td>\n",
       "      <td>Carpet Area</td>\n",
       "      <td>Palm Avenue Kolkata, Ballygunge</td>\n",
       "      <td>Kolkata</td>\n",
       "      <td>Unfurnished</td>\n",
       "      <td>Bachelors</td>\n",
       "      <td>2</td>\n",
       "      <td>Contact Agent</td>\n",
       "    </tr>\n",
       "    <tr>\n",
       "      <th>9</th>\n",
       "      <td>2022-06-20</td>\n",
       "      <td>2</td>\n",
       "      <td>10000</td>\n",
       "      <td>1000</td>\n",
       "      <td>1 out of 3</td>\n",
       "      <td>Carpet Area</td>\n",
       "      <td>Natunhat</td>\n",
       "      <td>Kolkata</td>\n",
       "      <td>Semi-Furnished</td>\n",
       "      <td>Bachelors/Family</td>\n",
       "      <td>2</td>\n",
       "      <td>Contact Owner</td>\n",
       "    </tr>\n",
       "  </tbody>\n",
       "</table>\n",
       "</div>"
      ],
      "text/plain": [
       "    Posted On  BHK   Rent  Size            Floor    Area Type  \\\n",
       "0  2022-05-18    2  10000  1100  Ground out of 2   Super Area   \n",
       "1  2022-05-13    2  20000   800       1 out of 3   Super Area   \n",
       "2  2022-05-16    2  17000  1000       1 out of 3   Super Area   \n",
       "3  2022-07-04    2  10000   800       1 out of 2   Super Area   \n",
       "4  2022-05-09    2   7500   850       1 out of 2  Carpet Area   \n",
       "5  2022-04-29    2   7000   600  Ground out of 1   Super Area   \n",
       "6  2022-06-21    2  10000   700  Ground out of 4   Super Area   \n",
       "7  2022-06-21    1   5000   250       1 out of 2   Super Area   \n",
       "8  2022-06-07    2  26000   800       1 out of 2  Carpet Area   \n",
       "9  2022-06-20    2  10000  1000       1 out of 3  Carpet Area   \n",
       "\n",
       "                     Area Locality     City Furnishing Status  \\\n",
       "0                           Bandel  Kolkata       Unfurnished   \n",
       "1         Phool Bagan, Kankurgachi  Kolkata    Semi-Furnished   \n",
       "2          Salt Lake City Sector 2  Kolkata    Semi-Furnished   \n",
       "3                      Dumdum Park  Kolkata       Unfurnished   \n",
       "4                    South Dum Dum  Kolkata       Unfurnished   \n",
       "5                      Thakurpukur  Kolkata       Unfurnished   \n",
       "6                         Malancha  Kolkata       Unfurnished   \n",
       "7                         Malancha  Kolkata       Unfurnished   \n",
       "8  Palm Avenue Kolkata, Ballygunge  Kolkata       Unfurnished   \n",
       "9                         Natunhat  Kolkata    Semi-Furnished   \n",
       "\n",
       "   Tenant Preferred  Bathroom Point of Contact  \n",
       "0  Bachelors/Family         2    Contact Owner  \n",
       "1  Bachelors/Family         1    Contact Owner  \n",
       "2  Bachelors/Family         1    Contact Owner  \n",
       "3  Bachelors/Family         1    Contact Owner  \n",
       "4         Bachelors         1    Contact Owner  \n",
       "5  Bachelors/Family         2    Contact Owner  \n",
       "6         Bachelors         2    Contact Agent  \n",
       "7         Bachelors         1    Contact Agent  \n",
       "8         Bachelors         2    Contact Agent  \n",
       "9  Bachelors/Family         2    Contact Owner  "
      ]
     },
     "execution_count": 20,
     "metadata": {},
     "output_type": "execute_result"
    }
   ],
   "source": [
    "data.head(10)"
   ]
  },
  {
   "cell_type": "markdown",
   "id": "35b4c38f-9a8b-471f-931e-541953313f63",
   "metadata": {},
   "source": [
    "# Exploratory Analysis"
   ]
  },
  {
   "cell_type": "code",
   "execution_count": 21,
   "id": "05bbc847-eb04-4b8f-98ea-8eed9f4636dc",
   "metadata": {},
   "outputs": [
    {
     "name": "stdout",
     "output_type": "stream",
     "text": [
      "<class 'pandas.core.frame.DataFrame'>\n",
      "RangeIndex: 4746 entries, 0 to 4745\n",
      "Data columns (total 12 columns):\n",
      " #   Column             Non-Null Count  Dtype \n",
      "---  ------             --------------  ----- \n",
      " 0   Posted On          4746 non-null   object\n",
      " 1   BHK                4746 non-null   int64 \n",
      " 2   Rent               4746 non-null   int64 \n",
      " 3   Size               4746 non-null   int64 \n",
      " 4   Floor              4746 non-null   object\n",
      " 5   Area Type          4746 non-null   object\n",
      " 6   Area Locality      4746 non-null   object\n",
      " 7   City               4746 non-null   object\n",
      " 8   Furnishing Status  4746 non-null   object\n",
      " 9   Tenant Preferred   4746 non-null   object\n",
      " 10  Bathroom           4746 non-null   int64 \n",
      " 11  Point of Contact   4746 non-null   object\n",
      "dtypes: int64(4), object(8)\n",
      "memory usage: 445.1+ KB\n"
     ]
    }
   ],
   "source": [
    "data.info()"
   ]
  },
  {
   "cell_type": "code",
   "execution_count": 22,
   "id": "498d9440-f41b-498b-81b5-915236e22717",
   "metadata": {},
   "outputs": [
    {
     "data": {
      "text/plain": [
       "(4746, 12)"
      ]
     },
     "execution_count": 22,
     "metadata": {},
     "output_type": "execute_result"
    }
   ],
   "source": [
    "data.shape"
   ]
  },
  {
   "cell_type": "code",
   "execution_count": 23,
   "id": "52340e68-177d-40e7-96e3-171ee1a8416f",
   "metadata": {},
   "outputs": [
    {
     "data": {
      "text/html": [
       "<div>\n",
       "<style scoped>\n",
       "    .dataframe tbody tr th:only-of-type {\n",
       "        vertical-align: middle;\n",
       "    }\n",
       "\n",
       "    .dataframe tbody tr th {\n",
       "        vertical-align: top;\n",
       "    }\n",
       "\n",
       "    .dataframe thead th {\n",
       "        text-align: right;\n",
       "    }\n",
       "</style>\n",
       "<table border=\"1\" class=\"dataframe\">\n",
       "  <thead>\n",
       "    <tr style=\"text-align: right;\">\n",
       "      <th></th>\n",
       "      <th>BHK</th>\n",
       "      <th>Rent</th>\n",
       "      <th>Size</th>\n",
       "      <th>Bathroom</th>\n",
       "    </tr>\n",
       "  </thead>\n",
       "  <tbody>\n",
       "    <tr>\n",
       "      <th>count</th>\n",
       "      <td>4746.000000</td>\n",
       "      <td>4.746000e+03</td>\n",
       "      <td>4746.000000</td>\n",
       "      <td>4746.000000</td>\n",
       "    </tr>\n",
       "    <tr>\n",
       "      <th>mean</th>\n",
       "      <td>2.083860</td>\n",
       "      <td>3.499345e+04</td>\n",
       "      <td>967.490729</td>\n",
       "      <td>1.965866</td>\n",
       "    </tr>\n",
       "    <tr>\n",
       "      <th>std</th>\n",
       "      <td>0.832256</td>\n",
       "      <td>7.810641e+04</td>\n",
       "      <td>634.202328</td>\n",
       "      <td>0.884532</td>\n",
       "    </tr>\n",
       "    <tr>\n",
       "      <th>min</th>\n",
       "      <td>1.000000</td>\n",
       "      <td>1.200000e+03</td>\n",
       "      <td>10.000000</td>\n",
       "      <td>1.000000</td>\n",
       "    </tr>\n",
       "    <tr>\n",
       "      <th>25%</th>\n",
       "      <td>2.000000</td>\n",
       "      <td>1.000000e+04</td>\n",
       "      <td>550.000000</td>\n",
       "      <td>1.000000</td>\n",
       "    </tr>\n",
       "    <tr>\n",
       "      <th>50%</th>\n",
       "      <td>2.000000</td>\n",
       "      <td>1.600000e+04</td>\n",
       "      <td>850.000000</td>\n",
       "      <td>2.000000</td>\n",
       "    </tr>\n",
       "    <tr>\n",
       "      <th>75%</th>\n",
       "      <td>3.000000</td>\n",
       "      <td>3.300000e+04</td>\n",
       "      <td>1200.000000</td>\n",
       "      <td>2.000000</td>\n",
       "    </tr>\n",
       "    <tr>\n",
       "      <th>max</th>\n",
       "      <td>6.000000</td>\n",
       "      <td>3.500000e+06</td>\n",
       "      <td>8000.000000</td>\n",
       "      <td>10.000000</td>\n",
       "    </tr>\n",
       "  </tbody>\n",
       "</table>\n",
       "</div>"
      ],
      "text/plain": [
       "               BHK          Rent         Size     Bathroom\n",
       "count  4746.000000  4.746000e+03  4746.000000  4746.000000\n",
       "mean      2.083860  3.499345e+04   967.490729     1.965866\n",
       "std       0.832256  7.810641e+04   634.202328     0.884532\n",
       "min       1.000000  1.200000e+03    10.000000     1.000000\n",
       "25%       2.000000  1.000000e+04   550.000000     1.000000\n",
       "50%       2.000000  1.600000e+04   850.000000     2.000000\n",
       "75%       3.000000  3.300000e+04  1200.000000     2.000000\n",
       "max       6.000000  3.500000e+06  8000.000000    10.000000"
      ]
     },
     "execution_count": 23,
     "metadata": {},
     "output_type": "execute_result"
    }
   ],
   "source": [
    "data.describe()"
   ]
  },
  {
   "cell_type": "code",
   "execution_count": 24,
   "id": "227984d9-d06d-4df9-a398-63b23abbb786",
   "metadata": {},
   "outputs": [
    {
     "data": {
      "text/plain": [
       "Posted On            0\n",
       "BHK                  0\n",
       "Rent                 0\n",
       "Size                 0\n",
       "Floor                0\n",
       "Area Type            0\n",
       "Area Locality        0\n",
       "City                 0\n",
       "Furnishing Status    0\n",
       "Tenant Preferred     0\n",
       "Bathroom             0\n",
       "Point of Contact     0\n",
       "dtype: int64"
      ]
     },
     "execution_count": 24,
     "metadata": {},
     "output_type": "execute_result"
    }
   ],
   "source": [
    "data.isnull().sum()"
   ]
  },
  {
   "cell_type": "code",
   "execution_count": 27,
   "id": "ae96d75c-ac15-4609-be68-b8146574d00c",
   "metadata": {},
   "outputs": [
    {
     "name": "stdout",
     "output_type": "stream",
     "text": [
      "Column: Posted On\n",
      "Posted On\n",
      "2022-07-06    311\n",
      "2022-05-12    149\n",
      "2022-06-04    135\n",
      "2022-07-09    126\n",
      "2022-05-23    125\n",
      "             ... \n",
      "2022-04-24      6\n",
      "2022-04-25      6\n",
      "2022-04-26      2\n",
      "2022-04-13      1\n",
      "2022-07-11      1\n",
      "Name: count, Length: 81, dtype: int64\n",
      "------------------------------\n",
      "Column: BHK\n",
      "BHK\n",
      "2    2265\n",
      "1    1167\n",
      "3    1098\n",
      "4     189\n",
      "5      19\n",
      "6       8\n",
      "Name: count, dtype: int64\n",
      "------------------------------\n",
      "Column: Rent\n",
      "Rent\n",
      "15000    275\n",
      "10000    248\n",
      "12000    238\n",
      "20000    175\n",
      "8000     162\n",
      "        ... \n",
      "4600       1\n",
      "79500      1\n",
      "76000      1\n",
      "45002      1\n",
      "5800       1\n",
      "Name: count, Length: 243, dtype: int64\n",
      "------------------------------\n",
      "Column: Size\n",
      "Size\n",
      "1000    240\n",
      "600     225\n",
      "800     220\n",
      "1200    193\n",
      "500     192\n",
      "       ... \n",
      "2770      1\n",
      "1252      1\n",
      "904       1\n",
      "721       1\n",
      "855       1\n",
      "Name: count, Length: 615, dtype: int64\n",
      "------------------------------\n",
      "Column: Floor\n",
      "Floor\n",
      "1 out of 2         379\n",
      "Ground out of 2    350\n",
      "2 out of 3         312\n",
      "2 out of 4         308\n",
      "1 out of 3         293\n",
      "                  ... \n",
      "11 out of 31         1\n",
      "50 out of 75         1\n",
      "18 out of 26         1\n",
      "12 out of 27         1\n",
      "23 out of 34         1\n",
      "Name: count, Length: 480, dtype: int64\n",
      "------------------------------\n",
      "Column: Area Type\n",
      "Area Type\n",
      "Super Area     2446\n",
      "Carpet Area    2298\n",
      "Built Area        2\n",
      "Name: count, dtype: int64\n",
      "------------------------------\n",
      "Column: Area Locality\n",
      "Area Locality\n",
      "Bandra West                                37\n",
      "Gachibowli                                 29\n",
      "Electronic City                            24\n",
      "Velachery                                  22\n",
      "Miyapur, NH 9                              22\n",
      "                                           ..\n",
      "Kengeri Upanagara                           1\n",
      "Ittamadu, Banashankari, Outer Ring Road     1\n",
      "Rmv Extension, Armane Nagar                 1\n",
      "snv la                                      1\n",
      "Manikonda, Hyderabad                        1\n",
      "Name: count, Length: 2235, dtype: int64\n",
      "------------------------------\n",
      "Column: City\n",
      "City\n",
      "Mumbai       972\n",
      "Chennai      891\n",
      "Bangalore    886\n",
      "Hyderabad    868\n",
      "Delhi        605\n",
      "Kolkata      524\n",
      "Name: count, dtype: int64\n",
      "------------------------------\n",
      "Column: Furnishing Status\n",
      "Furnishing Status\n",
      "Semi-Furnished    2251\n",
      "Unfurnished       1815\n",
      "Furnished          680\n",
      "Name: count, dtype: int64\n",
      "------------------------------\n",
      "Column: Tenant Preferred\n",
      "Tenant Preferred\n",
      "Bachelors/Family    3444\n",
      "Bachelors            830\n",
      "Family               472\n",
      "Name: count, dtype: int64\n",
      "------------------------------\n",
      "Column: Bathroom\n",
      "Bathroom\n",
      "2     2291\n",
      "1     1474\n",
      "3      749\n",
      "4      156\n",
      "5       60\n",
      "6       12\n",
      "7        3\n",
      "10       1\n",
      "Name: count, dtype: int64\n",
      "------------------------------\n",
      "Column: Point of Contact\n",
      "Point of Contact\n",
      "Contact Owner      3216\n",
      "Contact Agent      1529\n",
      "Contact Builder       1\n",
      "Name: count, dtype: int64\n",
      "------------------------------\n"
     ]
    }
   ],
   "source": [
    "for column in data.columns:\n",
    "    # Print the column name\n",
    "    print(f\"Column: {column}\")\n",
    "    \n",
    "    # Print the value counts for each unique value in the column\n",
    "    print(data[column].value_counts())\n",
    "    \n",
    "    # Add a separator for better readability\n",
    "    print(\"-\" * 30)"
   ]
  },
  {
   "cell_type": "code",
   "execution_count": 61,
   "id": "9c324756-ef7f-4226-ac53-5bbfe633e76b",
   "metadata": {},
   "outputs": [
    {
     "data": {
      "text/plain": [
       "Text(0, 0.5, 'Number of Records')"
      ]
     },
     "execution_count": 61,
     "metadata": {},
     "output_type": "execute_result"
    },
    {
     "data": {
      "image/png": "[encoded data removed]",
      "text/plain": [
       "<Figure size 640x480 with 1 Axes>"
      ]
     },
     "metadata": {},
     "output_type": "display_data"
    }
   ],
   "source": [
    "plt.bar(data['BHK'].value_counts().index, data['BHK'].value_counts().values)\n",
    "plt.xlabel('Number of BHK')\n",
    "plt.ylabel('Number of Records')"
   ]
  },
  {
   "cell_type": "code",
   "execution_count": 54,
   "id": "05a4dd0a-c44f-4e83-b53e-efa60d1b4c1f",
   "metadata": {},
   "outputs": [
    {
     "data": {
      "image/png": "[encoded data removed]",
      "text/plain": [
       "<Figure size 500x500 with 1 Axes>"
      ]
     },
     "metadata": {},
     "output_type": "display_data"
    }
   ],
   "source": [
    "sns.displot(data['Rent'], kind='kde')\n",
    "plt.show()"
   ]
  },
  {
   "cell_type": "code",
   "execution_count": 5,
   "id": "35e84352-ea19-48c7-b2a5-f7730b6b1774",
   "metadata": {},
   "outputs": [
    {
     "data": {
      "image/png": "[encoded data removed]",
      "text/plain": [
       "<Figure size 640x480 with 1 Axes>"
      ]
     },
     "metadata": {},
     "output_type": "display_data"
    }
   ],
   "source": [
    "#Outlier Detection Using Boxplot\n",
    "def plot_boxplot(data,ft):\n",
    "    data.boxplot(column=[ft])\n",
    "    plt.grid(False)\n",
    "    plt.show()\n",
    "\n",
    "plot_boxplot(data, \"Rent\")"
   ]
  },
  {
   "cell_type": "code",
   "execution_count": 55,
   "id": "63ff1185-b29d-4177-a9f2-72bebf25fc50",
   "metadata": {},
   "outputs": [
    {
     "data": {
      "image/png": "[encoded data removed]",
      "text/plain": [
       "<Figure size 500x500 with 1 Axes>"
      ]
     },
     "metadata": {},
     "output_type": "display_data"
    }
   ],
   "source": [
    "sns.displot(data['Size'], kind='kde')\n",
    "plt.show()"
   ]
  },
  {
   "cell_type": "code",
   "execution_count": 47,
   "id": "61bbae7e-7600-446c-a2ac-7b978dde1b91",
   "metadata": {},
   "outputs": [
    {
     "name": "stdout",
     "output_type": "stream",
     "text": [
      "Total number of records not following the pattern: 964\n"
     ]
    }
   ],
   "source": [
    "#Check how many Records in Floor Col that has diff format\n",
    "pattern = r'^\\d+ out of \\d+$'\n",
    "\n",
    "matches_pattern = data['Floor'].str.match(pattern)\n",
    "records_not_following_pattern = len(data[~matches_pattern])\n",
    "print(f'Total number of records not following the pattern: {records_not_following_pattern}')"
   ]
  },
  {
   "cell_type": "code",
   "execution_count": 132,
   "id": "22dd5616-5d16-472d-902d-90584b64f59b",
   "metadata": {},
   "outputs": [
    {
     "name": "stdout",
     "output_type": "stream",
     "text": [
      "Floor Numbers that are not in pattern:\n",
      "['Ground out of 2' 'Ground out of 1' 'Ground out of 4' 'Ground out of 3'\n",
      " 'Ground out of 6' 'Upper Basement out of 4' 'Ground out of 5'\n",
      " 'Lower Basement out of 2' 'Upper Basement out of 9'\n",
      " 'Upper Basement out of 16' 'Ground out of 7' 'Upper Basement out of 20'\n",
      " 'Upper Basement out of 40' 'Upper Basement out of 10'\n",
      " 'Upper Basement out of 30' 'Ground out of 8' 'Lower Basement out of 18'\n",
      " 'Upper Basement out of 7' 'Upper Basement out of 22' 'Ground out of 16'\n",
      " 'Ground out of 12' 'Ground out of 18' 'Lower Basement out of 3'\n",
      " 'Ground out of 9' '3' 'Ground' 'Lower Basement out of 1'\n",
      " 'Upper Basement out of 2' 'Ground out of 14' 'Upper Basement out of 3'\n",
      " 'Upper Basement out of 5' 'Ground out of 13' 'Ground out of 10' '1'\n",
      " 'Ground out of 15' 'Ground out of 27']\n"
     ]
    }
   ],
   "source": [
    "pattern = r'^\\d+ out of \\d+$'\n",
    "matches_pattern = data['Floor'].str.match(pattern)\n",
    "records_not_following_pattern = data[~matches_pattern]\n",
    "\n",
    "# Print all unique values of 'Floor' for records that don't follow the pattern\n",
    "unique_values_not_following_pattern = records_not_following_pattern['Floor'].unique()\n",
    "print(\"Floor Numbers that are not in pattern:\")\n",
    "print(unique_values_not_following_pattern)"
   ]
  },
  {
   "cell_type": "code",
   "execution_count": 136,
   "id": "e8977bf6-249e-43da-88bf-1786cc7bf4df",
   "metadata": {},
   "outputs": [
    {
     "name": "stdout",
     "output_type": "stream",
     "text": [
      "Number of floors that has \"Ground\": 926\n"
     ]
    }
   ],
   "source": [
    "pattern = r'Ground out of \\d+$'\n",
    "matches_pattern = data['Floor'].str.match(pattern)\n",
    "count_matches = matches_pattern.sum()\n",
    "\n",
    "print(f'Number of floors that has \"Ground\": {count_matches}')"
   ]
  },
  {
   "cell_type": "code",
   "execution_count": 137,
   "id": "81b2c57f-772e-4fad-8170-b7388dc5af3e",
   "metadata": {},
   "outputs": [
    {
     "name": "stdout",
     "output_type": "stream",
     "text": [
      "Number of floors that has \"Upper Basement\": 23\n"
     ]
    }
   ],
   "source": [
    "pattern = r'Upper Basement out of \\d+$'\n",
    "matches_pattern = data['Floor'].str.match(pattern)\n",
    "count_matches = matches_pattern.sum()\n",
    "\n",
    "print(f'Number of floors that has \"Upper Basement\": {count_matches}')"
   ]
  },
  {
   "cell_type": "code",
   "execution_count": 138,
   "id": "3a3ed47e-6678-4b8a-8aec-c09861f71cb3",
   "metadata": {},
   "outputs": [
    {
     "name": "stdout",
     "output_type": "stream",
     "text": [
      "Number of floors that has \"Lower Basement\": 11\n"
     ]
    }
   ],
   "source": [
    "pattern = r'Lower Basement out of \\d+$'\n",
    "matches_pattern = data['Floor'].str.match(pattern)\n",
    "count_matches = matches_pattern.sum()\n",
    "\n",
    "print(f'Number of floors that has \"Lower Basement\": {count_matches}')"
   ]
  },
  {
   "cell_type": "code",
   "execution_count": 139,
   "id": "25e0bbd3-9068-4f02-b753-9caa8b41f375",
   "metadata": {},
   "outputs": [
    {
     "name": "stdout",
     "output_type": "stream",
     "text": [
      "Unique values without 'out': {'3', '1', 'Ground'}\n"
     ]
    }
   ],
   "source": [
    "# Filter unique values that do not contain the word \"out\"\n",
    "unique_values_without_out = set(filter(lambda x: \"out\" not in x, data['Floor']))\n",
    "\n",
    "# Print the result\n",
    "print(\"Unique values without 'out':\", unique_values_without_out)"
   ]
  },
  {
   "cell_type": "code",
   "execution_count": 141,
   "id": "bcf7d215-0289-40fb-b66c-e775aa93cc38",
   "metadata": {},
   "outputs": [
    {
     "name": "stdout",
     "output_type": "stream",
     "text": [
      "Invalid Floor Numbers:\n",
      "Index: 105, Floor: 8 out of 5\n",
      "Index: 161, Floor: 2 out of 1\n"
     ]
    }
   ],
   "source": [
    "#Checking if first floor number if lower than the second floor number\n",
    "print(\"Invalid Floor Numbers:\")\n",
    "for index, row in data.iterrows():\n",
    "    floor_values = row['Floor'].split(' out of ')\n",
    "\n",
    "    # Check if the split resulted in the expected number of elements\n",
    "    if len(floor_values) == 2 and floor_values[0].isdigit() and floor_values[1].isdigit():\n",
    "        if int(floor_values[0]) > int(floor_values[1]):\n",
    "            print(f\"Index: {index}, Floor: {row['Floor']}\")"
   ]
  },
  {
   "cell_type": "code",
   "execution_count": 36,
   "id": "41f1a8fb-19ad-4424-a048-083dd08476ed",
   "metadata": {},
   "outputs": [
    {
     "name": "stdout",
     "output_type": "stream",
     "text": [
      "City\n",
      "Bangalore    429\n",
      "Chennai      323\n",
      "Delhi        289\n",
      "Hyderabad    343\n",
      "Kolkata      252\n",
      "Mumbai       604\n",
      "Name: Area Locality, dtype: int64\n"
     ]
    }
   ],
   "source": [
    "print(data.groupby('City')['Area Locality'].nunique())"
   ]
  },
  {
   "cell_type": "code",
   "execution_count": 60,
   "id": "3cc0634c-5298-4fcd-ac3a-39d46c492f1b",
   "metadata": {},
   "outputs": [
    {
     "data": {
      "text/plain": [
       "Text(0, 0.5, 'Number of Records')"
      ]
     },
     "execution_count": 60,
     "metadata": {},
     "output_type": "execute_result"
    },
    {
     "data": {
      "image/png": "[encoded data removed]",
      "text/plain": [
       "<Figure size 640x480 with 1 Axes>"
      ]
     },
     "metadata": {},
     "output_type": "display_data"
    }
   ],
   "source": [
    "plt.bar(data['Bathroom'].value_counts().index, data['Bathroom'].value_counts().values)\n",
    "plt.xlabel('Number of Bathrooms')\n",
    "plt.ylabel('Number of Records')"
   ]
  },
  {
   "cell_type": "code",
   "execution_count": null,
   "id": "8e7af774-5a2b-4991-8b2f-fca40bcdf1e2",
   "metadata": {},
   "outputs": [],
   "source": []
  }
 ],
 "metadata": {
  "kernelspec": {
   "display_name": "Python 3 (ipykernel)",
   "language": "python",
   "name": "python3"
  },
  "language_info": {
   "codemirror_mode": {
    "name": "ipython",
    "version": 3
   },
   "file_extension": ".py",
   "mimetype": "text/x-python",
   "name": "python",
   "nbconvert_exporter": "python",
   "pygments_lexer": "ipython3",
   "version": "3.12.0"
  }
 },
 "nbformat": 4,
 "nbformat_minor": 5
}
